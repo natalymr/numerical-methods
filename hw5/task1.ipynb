{
 "cells": [
  {
   "cell_type": "markdown",
   "metadata": {
    "collapsed": true
   },
   "source": [
    "# Упражнение 1\n",
    "\n",
    "Рассмотрим краевую задачу для ОДУ:\n",
    "\n",
    "$$-u''(x) + u(x) = x\\\\ \\\\ \\\\\n",
    "u(0) = 0\\\\ \\\\ \\\\\n",
    "u(1) = 0\\\\ \\\\ \\\\\n",
    "x \\in [0, 1]$$\n",
    "\n",
    "1. Найдите его аналитическое решение.\n",
    "\n",
    "\n",
    "2. Найдите решение численно, построив конечно-разностную аппроксимацию с шагом сетки $h$ и решив СЛАУ $$A \\overrightarrow{x} = \\overrightarrow{b},$$ где $A$ - квадратная трехдиагональная матрица, с $\\frac{2}{h^2} + 1$ и $-\\frac{1}{h^2}$ на диагонали и субдиагоналях соответственно, а $b$ - вектор, который равен $(h, 2h, ..., Nh)^T$. \n",
    "\n",
    "    Решите СЛАУ стандартной функцией и сравните полученное решение с аналитическим.\n",
    "    \n",
    "    Постройте график зависимости скорости решение СЛАУ от размерности матрицы $A$.\n",
    "\n",
    "\n",
    "3. Реализуйте метод прогонки для решения данной СЛАУ.\n",
    "\n",
    "    Постройте график зависимости вемени работы метод от $N$. И сравнить с результатами прошлого метода.\n",
    "\n",
    "\n",
    "\n",
    "-----\n",
    "## Решение\n",
    "\n",
    "1. Найдем аналитически решение ОДУ\n",
    "\n",
    "    1.1 Найдем общее решение однородного уравнения:\n",
    "    $$-u''(x) + u(x) = 0\\\\ \\\\ \\\\\n",
    "    -\\lambda ^2 + 1 = 0\\\\ \\\\ \\\\\n",
    "    \\lambda = \\pm 1\\\\ \\\\ \\\\ \n",
    "    \\Rightarrow u(x) = c_1 \\cdot e^x + c_2 \\cdot e^{-x}$$\n",
    "    \n",
    "    1.2 Найдем частное решение неоднородного уравнения:\n",
    "    \n",
    "    Будем искать его в виде $$\\widetilde{u}(x) = A\\cdot x + B$$\n",
    "        \n",
    "    Подставим $\\widetilde{u}(x)$ в уравнение и найдем неизвестные коэффиценты $A,\\ B$:\n",
    "    $$\\\\ \\\\ \\\\\n",
    "    A\\cdot x + B = x\\\\ \\\\ \\\\\n",
    "        \\Rightarrow A = 1,\\ B = 0$$\n",
    "    Тогда частным решением неоднородного уравнения является:\n",
    "    $$\\\\ \\\\ \\\\\n",
    "    \\widetilde{u}(x) = x$$\n",
    "    \n",
    "    1.3 Общее решение уравнения получается как сумма решений общего однородного и частного неоднородного:\n",
    "    $$\\\\ \\\\ \\\\\n",
    "    u(x) = c_1 \\cdot e^x + c_2 \\cdot e^{-x} + x$$\n",
    "    \n",
    "    1.4 Подставим в решение краевые условия, чтобы найти значения $c_1,\\ c_2$.\n",
    "    $$\\\\ \\\\ \\\\\n",
    "    u(0) = c_1 + c_2 = 0\\\\ \\\\ \\\\\n",
    "    u(1) = c_1 \\cdot e + c_2 \\cdot e^{-1} + 1 = 0$$\n",
    "    \n",
    "    Решив эту систему уравнений, получаем:\n",
    "    $$c_1 = -\\frac{e}{e^2 + 1},\\\\ \\\\ \\\\\n",
    "    c_2 = \\frac{e}{e^2 + 1}$$\n",
    "    \n",
    "    1.5 Итоговое решение краевой задачи:\n",
    "    $$u(x) = -\\frac{e}{e^2 + 1}\\cdot e^x + \\frac{e}{e^2 + 1}\\cdot e^{-x} + x$$\n",
    "    \n",
    "----\n",
    "\n",
    "2. Решим СЛАУ, используя $LU-$разложение матрицы $A$."
   ]
  },
  {
   "cell_type": "code",
   "execution_count": 289,
   "metadata": {},
   "outputs": [],
   "source": [
    "from functools import partial\n",
    "import math\n",
    "import matplotlib.pyplot as plt\n",
    "from matplotlib.legend_handler import HandlerLine2D\n",
    "import numpy as np\n",
    "import time\n",
    "from typing import List, Callable\n",
    "\n",
    "Matrix = List[List[float]]\n",
    "Vector = List[float]"
   ]
  },
  {
   "cell_type": "code",
   "execution_count": 67,
   "metadata": {},
   "outputs": [],
   "source": [
    "def lu_decomposition(A: Matrix) -> (Matrix, Matrix):\n",
    "    n = len(A)\n",
    "    L = [[0] * n for _ in range(n)]\n",
    "    U = [[0] * n for _ in range(n)]\n",
    "    \n",
    "    for i in range(n):\n",
    "        for j in range(i, n):\n",
    "            \n",
    "            if (i == 0):\n",
    "                U[i][j] = A[i][j]\n",
    "                if U[0][0] != 0:\n",
    "                    L[j][i] = A[j][0] / U[0][0]\n",
    "            else:              \n",
    "                tmp_u = 0\n",
    "                tmp_l = 0\n",
    "                for k in range((i - 1) + 1):\n",
    "                    tmp_u += L[i][k] * U[k][j]\n",
    "                    tmp_l += L[j][k] * U[k][i]\n",
    "                \n",
    "                U[i][j] = A[i][j] - tmp_u\n",
    "                if U[i][i] != 0:\n",
    "                    L[j][i] = (1. / U[i][i]) * (A[j][i] - tmp_l)\n",
    "                    \n",
    "    return L, U"
   ]
  },
  {
   "cell_type": "code",
   "execution_count": 206,
   "metadata": {},
   "outputs": [],
   "source": [
    "def lower_triangular_solve(L: Matrix, b: Vector) -> Vector:\n",
    "    n = len(L)\n",
    "    y = [0] * n\n",
    "     \n",
    "    for row in range(n):        \n",
    "        tmp_l_y = 0\n",
    "        for k in range(row):\n",
    "            tmp_l_y += L[row][k] * y[k]\n",
    "            \n",
    "        y[row] = (b[row] - tmp_l_y) / L[row][row]\n",
    "    \n",
    "    return y"
   ]
  },
  {
   "cell_type": "code",
   "execution_count": 205,
   "metadata": {},
   "outputs": [],
   "source": [
    "def upper_triangular_solve(U: Matrix, y: Vector) -> Vector:\n",
    "    n = len(U)\n",
    "    x = [0] * n\n",
    "    \n",
    "    for row in range(n - 1, -1, -1):        \n",
    "        tmp_u_x = 0\n",
    "        for k in range((n - 1) - row):\n",
    "            tmp_u_x += U[row][n - 1 - k] * x[n - k - 1]\n",
    "        \n",
    "        x[row] =  (y[row] - tmp_u_x) / U[row][row]\n",
    "        \n",
    "    return x"
   ]
  },
  {
   "cell_type": "code",
   "execution_count": 201,
   "metadata": {},
   "outputs": [],
   "source": [
    "def generate_A_matrix(N: int, h: float) -> Matrix:\n",
    "    A = [[0] * N for _ in range(N)]\n",
    "\n",
    "    for i in range(N):\n",
    "        A[i][i] = 1 + 2. / h ** 2\n",
    "        if i - 1 > 0:\n",
    "            A[i][i - 1] = - 1. / h ** 2\n",
    "        if i + 1 < N:\n",
    "            A[i][i + 1] = - 1. / h ** 2\n",
    "    \n",
    "    return A"
   ]
  },
  {
   "cell_type": "code",
   "execution_count": 182,
   "metadata": {},
   "outputs": [],
   "source": [
    "def generate_b_vector(N: int, h: float) -> Vector:\n",
    "    return [i * h for i in range(1, N + 1)]"
   ]
  },
  {
   "cell_type": "code",
   "execution_count": 266,
   "metadata": {},
   "outputs": [],
   "source": [
    "timestamps_for_lu = []\n",
    "\n",
    "@timestamps(timestamps_for_lu)\n",
    "def lu_solver(A: Matrix, b: Vector) -> Vector:\n",
    "    L, U = lu_decomposition(A)\n",
    "    y = lower_triangular_solve(L, b)\n",
    "    x = upper_triangular_solve(U, y)\n",
    "    \n",
    "    return x"
   ]
  },
  {
   "cell_type": "code",
   "execution_count": 265,
   "metadata": {},
   "outputs": [],
   "source": [
    "def solve_this_differential_equation(N: int, h: float) -> Vector:\n",
    "    A = generate_A_matrix(N, h)\n",
    "    b = generate_b_vector(N, h)\n",
    "    \n",
    "    x = lu_solver(A, b)\n",
    "    \n",
    "    #print('actual = ', mv(A, x), '\\n', 'expected = ', b)\n",
    "    \n",
    "    return x"
   ]
  },
  {
   "cell_type": "code",
   "execution_count": 169,
   "metadata": {},
   "outputs": [],
   "source": [
    "def acc_solution_in_point(t: float) -> float:\n",
    "    c_1 = - (math.exp(1)) / (math.exp(2) + 1)\n",
    "    \n",
    "    return c_1 * math.exp(t) - c_1 * math.exp(-t) + t"
   ]
  },
  {
   "cell_type": "code",
   "execution_count": 179,
   "metadata": {},
   "outputs": [],
   "source": [
    "def acc_solution(N: int, h: float) -> Vector:\n",
    "    return [acc_solution_in_point(i * h) for i in range(1, N + 1)]"
   ]
  },
  {
   "cell_type": "code",
   "execution_count": 193,
   "metadata": {},
   "outputs": [],
   "source": [
    "def error_betweet_num_and_acc(num: Vector, acc: Vector) -> Vector:\n",
    "    N = len(num)\n",
    "    return [abs(num[i] - acc[i]) for i in range(N)]"
   ]
  },
  {
   "cell_type": "code",
   "execution_count": 194,
   "metadata": {},
   "outputs": [],
   "source": [
    "def plot_num_acc_error(t, acc, num, error):\n",
    "    plt.figure(figsize=(10, 10))\n",
    "    \n",
    "    plt.subplot(3, 1, 1)\n",
    "    plt.plot(t, acc, 'g.-')\n",
    "    plt.ylabel('accurate')\n",
    "    plt.grid()\n",
    "\n",
    "    plt.subplot(3, 1, 2)\n",
    "    plt.plot(t, num, 'k.-')\n",
    "    plt.ylabel('numerical')\n",
    "    plt.grid()\n",
    "    \n",
    "    plt.subplot(3, 1, 3)\n",
    "    plt.plot(t, error, 'r.-')\n",
    "    plt.ylabel('error')\n",
    "    plt.grid()\n",
    "    \n",
    "    plt.show()"
   ]
  },
  {
   "cell_type": "code",
   "execution_count": 228,
   "metadata": {},
   "outputs": [],
   "source": [
    "N = 150\n",
    "h = 1. / (N + 1)\n",
    "\n",
    "num = solve_this_differential_equation(N, h)\n",
    "acc = acc_solution(N, h)\n",
    "error = error_betweet_num_and_acc(num, acc)\n",
    "t = [i * h for i in range(1, N + 1)]"
   ]
  },
  {
   "cell_type": "code",
   "execution_count": 200,
   "metadata": {},
   "outputs": [
    {
     "data": {
      "image/png": "[encoded data removed]",
      "text/plain": [
       "<Figure size 720x720 with 3 Axes>"
      ]
     },
     "metadata": {
      "needs_background": "light"
     },
     "output_type": "display_data"
    }
   ],
   "source": [
    "plot_num_acc_error(t, acc, num, error)"
   ]
  },
  {
   "cell_type": "markdown",
   "metadata": {},
   "source": [
    "3. Реализуем метод прогонки.\n",
    "$$\n",
    " \\begin{pmatrix}\n",
    "  b_1 & c_1 &  & & 0 \\\\\n",
    "  a_2 & b_2 &  c_2 & &  \\\\\n",
    "  & a_3 & b_3 &  \\ddots &   \\\\\n",
    "   && \\ddots  & \\ddots & c_{n - 1}  \\\\\n",
    "  0 & & & a_n & b_n \n",
    " \\end{pmatrix} \\cdot\n",
    " \\begin{pmatrix}\n",
    "  x_1  \\\\\n",
    "  x_2  \\\\\n",
    "  x_3 \\\\\n",
    "  \\vdots \\\\\n",
    "  x_n\n",
    " \\end{pmatrix} = \n",
    " \\begin{pmatrix}\n",
    "  d_1  \\\\\n",
    "  d_2  \\\\\n",
    "  d_3 \\\\\n",
    "  \\vdots \\\\\n",
    "  d_n\n",
    " \\end{pmatrix}$$\n",
    " \n",
    "     Тогда вспомогательные коэффициенты можно найти по формуле: \n",
    " \n",
    " $$c'_i =\n",
    "  \\begin{cases}\n",
    "    \\frac{c_i}{b_i}      & \\quad \\text{if } i = 1 \\\\\n",
    "    \\frac{c_i}{b_i - a_i c'_{i - 1}}  & \\quad \\text{if } i = 2, 3, ..., n - 1 \n",
    "  \\end{cases}\\\\ \\\\ \\\\\n",
    "  d'_i = \n",
    "  \\begin{cases}\n",
    "    \\frac{d_i}{b_i}      & \\quad \\text{if } i = 1 \\\\\n",
    "    \\frac{d_i - a_i d'_{i - 1}}{b_i - a_i c'_{i - 1}}  & \\quad \\text{if } i = 2, 3, ..., n \n",
    "  \\end{cases}\n",
    "  $$\n",
    "  \n",
    "    И искомый вектор $x$ можно будет найти по формуле:\n",
    "  $$x_n = d'_n\\\\ \\\\ \\\\\n",
    "  x_i = d'_i - c'_i \\cdot x_{i + 1}$$"
   ]
  },
  {
   "cell_type": "code",
   "execution_count": 261,
   "metadata": {},
   "outputs": [],
   "source": [
    "timestamps_for_tridiag = []\n",
    "\n",
    "@timestamps(timestamps_for_tridiag)\n",
    "def tridiagonal_matrix_algorithm(A: Matrix, d: Vector) -> Vector:\n",
    "    n = len(A)\n",
    "    c_hatch = [0] * n\n",
    "    d_hatch = [0] * n\n",
    "    x = [0] * n\n",
    "    \n",
    "    for i in range(n):\n",
    "        b = A[i][i]\n",
    "        \n",
    "        if i == 0:\n",
    "            c = A[i][i + 1]\n",
    "            c_hatch[i] = float(c / b)\n",
    "            d_hatch[i] = float(d[i] / b)\n",
    "        else:\n",
    "            a = A[i][i - 1]\n",
    "            if i < n - 1:\n",
    "                c = A[i][i + 1]\n",
    "                c_hatch[i] = float(c / b - a * c_hatch[i - 1])\n",
    "            \n",
    "            d_hatch[i] = float((d[i] - a * d_hatch[i - 1]) / (b - a * c_hatch[i - 1]))\n",
    "            \n",
    "    for i in range(n - 1, -1, -1):\n",
    "        if i == n - 1:\n",
    "            x[i] = d_hatch[i]\n",
    "        else:\n",
    "            x[i] = d_hatch[i] - c_hatch[i] * x[i + 1]\n",
    "    \n",
    "    return x"
   ]
  },
  {
   "cell_type": "code",
   "execution_count": 271,
   "metadata": {},
   "outputs": [],
   "source": [
    "#for testing\n",
    "def mv(A: Matrix, x: Vector) -> Vector:\n",
    "    n = len(A)\n",
    "    result = [0] * n\n",
    "    \n",
    "    for i in range(n):\n",
    "        tmp = 0\n",
    "        for j in range(n):\n",
    "            tmp += A[i][j] * x[j]\n",
    "        \n",
    "        result[i] = tmp\n",
    "    \n",
    "    return result"
   ]
  },
  {
   "cell_type": "markdown",
   "metadata": {},
   "source": [
    "3.2 Сделаем замеры скорости выполнения обоих методов в зависимости от $N$."
   ]
  },
  {
   "cell_type": "code",
   "execution_count": 278,
   "metadata": {},
   "outputs": [],
   "source": [
    "def parametrized(dec):\n",
    "    def layer(*args, **kwargs):\n",
    "        def repl(f):\n",
    "            return dec(f, *args, **kwargs)\n",
    "        return repl\n",
    "    return layer\n",
    "\n",
    "@parametrized\n",
    "def timestamps(f, container: List[float]):\n",
    "    def aux(*xs, **kws):\n",
    "        start = time.time_ns()\n",
    "        f(*xs, **kws)\n",
    "        end = time.time_ns()\n",
    "        return container.append(end - start)\n",
    "    return aux"
   ]
  },
  {
   "cell_type": "code",
   "execution_count": 280,
   "metadata": {},
   "outputs": [],
   "source": [
    "def benchmark(N_all: List[int]) -> (Vector, Vector):\n",
    "    global timestamps_for_lu\n",
    "    global timestamps_for_tridiag\n",
    "    \n",
    "    timestamps_for_lu.clear()\n",
    "    timestamps_for_tridiag.clear()\n",
    "    \n",
    "    for n in N_all:\n",
    "        A = generate_A_matrix(n, 1. / (n + 1))\n",
    "        b = generate_b_vector(n, 1. / (n + 1))\n",
    "        \n",
    "        lu_solver(A, b)\n",
    "        tridiagonal_matrix_algorithm(A, b)\n",
    "    \n",
    "    return timestamps_for_lu, timestamps_for_tridiag        "
   ]
  },
  {
   "cell_type": "code",
   "execution_count": 294,
   "metadata": {},
   "outputs": [
    {
     "data": {
      "image/png": "[encoded data removed]",
      "text/plain": [
       "<Figure size 720x720 with 1 Axes>"
      ]
     },
     "metadata": {
      "needs_background": "light"
     },
     "output_type": "display_data"
    }
   ],
   "source": [
    "import warnings\n",
    "warnings.filterwarnings(\"ignore\")\n",
    "\n",
    "N_min = 2\n",
    "N_max = 20\n",
    "step = 1\n",
    "N_all = np.arange(N_min, N_max, step)\n",
    "\n",
    "lu_time, tridiag_time = benchmark(N_all)\n",
    "plt.figure(figsize=(10, 10))\n",
    "plt.title(\"compare tridiag method and LU\")\n",
    "plt.xlabel(\"N\")\n",
    "plt.ylabel(\"time\")\n",
    "line1 = plt.plot(N_all, lu_time, 'g.-', label=\"LU\")\n",
    "line2 = plt.plot(N_all, tridiag_time, 'k.-', label=\"tridiag method\")\n",
    "plt.legend([line1, line2], [\"a\", \"b\"])\n",
    "ax = plt.subplot(111)\n",
    "ax.legend()\n",
    "plt.grid()\n",
    "\n",
    "\n",
    "plt.show()"
   ]
  },
  {
   "cell_type": "code",
   "execution_count": null,
   "metadata": {},
   "outputs": [],
   "source": []
  },
  {
   "cell_type": "code",
   "execution_count": null,
   "metadata": {},
   "outputs": [],
   "source": []
  }
 ],
 "metadata": {
  "kernelspec": {
   "display_name": "Python 3",
   "language": "python",
   "name": "python3"
  },
  "language_info": {
   "codemirror_mode": {
    "name": "ipython",
    "version": 3
   },
   "file_extension": ".py",
   "mimetype": "text/x-python",
   "name": "python",
   "nbconvert_exporter": "python",
   "pygments_lexer": "ipython3",
   "version": "3.6.3"
  }
 },
 "nbformat": 4,
 "nbformat_minor": 1
}
