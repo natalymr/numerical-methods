{
 "cells": [
  {
   "cell_type": "markdown",
   "metadata": {
    "collapsed": true
   },
   "source": [
    "# Упражнение 1\n",
    "\n",
    "Вычислите матрицу Грамма $(A_{ij} = <e_i, e_j>)$ для матрицы Гильберта $(G = {1, x, x^2, ..., x^{n - 1}})$\n",
    "\n",
    "1. С помощью методы прямых итераций найдите максимальтое собственное число матрицы.\n",
    "\n",
    "\n",
    "2. С помощью метода итераций со сдвигом найдите минимальное собственное число матрицы.\n",
    "\n",
    "\n",
    "3. Постройте график спектрального числа обусловленности $\\kappa (A)$ как функцию $n$. Найдите численно примерную зависимость."
   ]
  },
  {
   "cell_type": "code",
   "execution_count": 30,
   "metadata": {},
   "outputs": [],
   "source": [
    "import math\n",
    "import numpy as np\n",
    "import matplotlib.pyplot as plt\n",
    "from typing import List"
   ]
  },
  {
   "cell_type": "code",
   "execution_count": 2,
   "metadata": {},
   "outputs": [],
   "source": [
    "Matrix = List[List[float]]\n",
    "Vector = List[float]"
   ]
  },
  {
   "cell_type": "code",
   "execution_count": 10,
   "metadata": {},
   "outputs": [],
   "source": [
    "def generate_gilbert_matrix(n: int) -> Matrix:\n",
    "    H = [[0] * n for _ in range(n)]\n",
    "    \n",
    "    for i in range(n):\n",
    "        for j in range(n):\n",
    "            H[i][j] = 1. / (i + j + 1)\n",
    "    \n",
    "    return H"
   ]
  },
  {
   "cell_type": "markdown",
   "metadata": {},
   "source": [
    "1. Максимальное собственное значение"
   ]
  },
  {
   "cell_type": "code",
   "execution_count": 13,
   "metadata": {},
   "outputs": [],
   "source": [
    "def power_iteration(A: Matrix, num_iterations: int) -> float:\n",
    "    A = np.array(A)\n",
    "    x = np.random.rand(A.shape[1])\n",
    "    l = 0\n",
    "    \n",
    "    for _ in range(num_iterations):\n",
    "        y = np.dot(A, x)\n",
    "        l = np.inner(y, x)\n",
    "        \n",
    "        x = y / np.linalg.norm(y)\n",
    "\n",
    "    return l"
   ]
  },
  {
   "cell_type": "code",
   "execution_count": 25,
   "metadata": {},
   "outputs": [
    {
     "name": "stdout",
     "output_type": "stream",
     "text": [
      "expected = 5.372281323269014 actual = 5.372281323287302\n"
     ]
    }
   ],
   "source": [
    "# test for matrix [[1, 2], [3, 4]]\n",
    "print(\"expected = {} actual = {}\".format((1. / 2) * (5 + math.sqrt(33)), power_iteration([[1, 2], [3, 4]], 10)))"
   ]
  },
  {
   "cell_type": "code",
   "execution_count": 17,
   "metadata": {},
   "outputs": [
    {
     "data": {
      "text/plain": [
       "1.4083189271236538"
      ]
     },
     "execution_count": 17,
     "metadata": {},
     "output_type": "execute_result"
    }
   ],
   "source": [
    "power_iteration(generate_gilbert_matrix(3), 10)"
   ]
  },
  {
   "cell_type": "markdown",
   "metadata": {},
   "source": [
    "2. Минимальное собственное значение"
   ]
  },
  {
   "cell_type": "code",
   "execution_count": 18,
   "metadata": {},
   "outputs": [],
   "source": [
    "def power_iteration_shift_for_min(A: Matrix, num_iterations: int) -> float:\n",
    "    l_max = power_iteration(A, num_iterations)\n",
    "    A_shift = np.array(A) - l_max * np.identity(len(A))\n",
    "    \n",
    "    return power_iteration(A_shift, num_iterations) + l_max"
   ]
  },
  {
   "cell_type": "code",
   "execution_count": 27,
   "metadata": {},
   "outputs": [
    {
     "name": "stdout",
     "output_type": "stream",
     "text": [
      "expected = -0.3722813232690143 actual = -0.3722813232690152\n"
     ]
    }
   ],
   "source": [
    "print(\"expected = {} actual = {}\".format((1. / 2) * (5 - math.sqrt(33)), \n",
    "                                         power_iteration_shift_for_min([[1, 2], [3, 4]], 10)))"
   ]
  },
  {
   "cell_type": "code",
   "execution_count": 19,
   "metadata": {},
   "outputs": [
    {
     "data": {
      "text/plain": [
       "0.015278352653013139"
      ]
     },
     "execution_count": 19,
     "metadata": {},
     "output_type": "execute_result"
    }
   ],
   "source": [
    "power_iteration_shift_for_min(generate_gilbert_matrix(3), 10)"
   ]
  },
  {
   "cell_type": "markdown",
   "metadata": {},
   "source": [
    "3. Зависимость между числом обусловленности и $n$"
   ]
  },
  {
   "cell_type": "code",
   "execution_count": 55,
   "metadata": {},
   "outputs": [],
   "source": [
    "def cond_number_dependence_on_dim(n_min: int, n_max: int, step: int) -> (Vector, Vector, Vector, Vector):\n",
    "    n_all = np.arange(n_min, n_max + 1, step)\n",
    "    cond_numbers = []\n",
    "    sigmas_min = []\n",
    "    sigmas_max = []\n",
    "    \n",
    "    for n in n_all:\n",
    "        A = np.array(generate_gilbert_matrix(n))\n",
    "        u, s, vh = np.linalg.svd(A)\n",
    "        sigma_min = s.min()\n",
    "        sigma_max = s.max()\n",
    "        sigmas_min.append(sigma_min)\n",
    "        sigmas_max.append(sigma_max)\n",
    "        cond_numbers.append(float(sigma_max / sigma_min))\n",
    "    \n",
    "    return n_all, cond_numbers, sigmas_min, sigmas_max"
   ]
  },
  {
   "cell_type": "code",
   "execution_count": 59,
   "metadata": {},
   "outputs": [],
   "source": [
    "n, cond_numbers, mins, maxs = cond_number_dependence_on_dim(4, 50, 1)"
   ]
  },
  {
   "cell_type": "code",
   "execution_count": 63,
   "metadata": {},
   "outputs": [
    {
     "data": {
      "image/png": "[encoded data removed]",
      "text/plain": [
       "<Figure size 720x720 with 1 Axes>"
      ]
     },
     "metadata": {
      "needs_background": "light"
     },
     "output_type": "display_data"
    }
   ],
   "source": [
    "plt.figure(figsize=(10, 10))\n",
    "\n",
    "plt.plot(n[:5], cond_numbers[:5], 'g.-')\n",
    "plt.plot(n[:5], mins[:5], 'ro-')\n",
    "plt.plot(n[:5], maxs[:5])\n",
    "plt.grid()\n",
    "\n",
    "plt.show()"
   ]
  },
  {
   "cell_type": "markdown",
   "metadata": {},
   "source": [
    "**Вывод по третьему пункту:** число обусловленности для матрицы Гильберта с увеличением размера $n$ матрицы растет экпоненциально"
   ]
  },
  {
   "cell_type": "code",
   "execution_count": null,
   "metadata": {},
   "outputs": [],
   "source": []
  }
 ],
 "metadata": {
  "kernelspec": {
   "display_name": "Python 3",
   "language": "python",
   "name": "python3"
  },
  "language_info": {
   "codemirror_mode": {
    "name": "ipython",
    "version": 3
   },
   "file_extension": ".py",
   "mimetype": "text/x-python",
   "name": "python",
   "nbconvert_exporter": "python",
   "pygments_lexer": "ipython3",
   "version": "3.6.3"
  }
 },
 "nbformat": 4,
 "nbformat_minor": 1
}
